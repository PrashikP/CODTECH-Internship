{
  "nbformat": 4,
  "nbformat_minor": 0,
  "metadata": {
    "colab": {
      "provenance": []
    },
    "kernelspec": {
      "name": "python3",
      "display_name": "Python 3"
    },
    "language_info": {
      "name": "python"
    }
  },
  "cells": [
    {
      "cell_type": "code",
      "execution_count": 6,
      "metadata": {
        "colab": {
          "base_uri": "https://localhost:8080/"
        },
        "id": "Z96z-hvsiKi_",
        "outputId": "dc364152-aa42-4b66-d94d-5a4fd14fd412"
      },
      "outputs": [
        {
          "output_type": "stream",
          "name": "stdout",
          "text": [
            "Libraries loaded ✅\n"
          ]
        }
      ],
      "source": [
        "import pandas as pd\n",
        "import numpy as np\n",
        "from sklearn.pipeline import Pipeline\n",
        "from sklearn.compose import ColumnTransformer\n",
        "from sklearn.impute import SimpleImputer\n",
        "from sklearn.preprocessing import StandardScaler, OneHotEncoder\n",
        "import joblib\n",
        "import os\n",
        "\n",
        "os.makedirs(\"outputs\", exist_ok=True)\n",
        "print(\"Libraries loaded ✅\")\n"
      ]
    },
    {
      "cell_type": "code",
      "source": [
        "# Create a small messy dataset manually for demo\n",
        "data = {\n",
        "    \"Age\": [25, np.nan, 35, 40, np.nan, 30],\n",
        "    \"Salary\": [50000, 60000, np.nan, 80000, 75000, 62000],\n",
        "    \"Department\": [\"HR\", \"Finance\", \"Finance\", np.nan, \"IT\", \"IT\"]\n",
        "}\n",
        "df = pd.DataFrame(data)\n",
        "\n",
        "print(\"[INFO] Raw Data:\")\n",
        "print(df)\n",
        "df.to_csv(\"sample_data.csv\", index=False)  # save sample\n"
      ],
      "metadata": {
        "colab": {
          "base_uri": "https://localhost:8080/"
        },
        "id": "sAF9lB0giNGG",
        "outputId": "7bee4070-388e-4b75-bca1-62775f8fc018"
      },
      "execution_count": 7,
      "outputs": [
        {
          "output_type": "stream",
          "name": "stdout",
          "text": [
            "[INFO] Raw Data:\n",
            "    Age   Salary Department\n",
            "0  25.0  50000.0         HR\n",
            "1   NaN  60000.0    Finance\n",
            "2  35.0      NaN    Finance\n",
            "3  40.0  80000.0        NaN\n",
            "4   NaN  75000.0         IT\n",
            "5  30.0  62000.0         IT\n"
          ]
        }
      ]
    },
    {
      "cell_type": "code",
      "source": [
        "# Copy original for human-friendly cleanup\n",
        "human_df = df.copy()\n",
        "\n",
        "# Fill numeric NaNs with median\n",
        "for col in human_df.select_dtypes(include=[np.number]).columns:\n",
        "    median_val = human_df[col].median()\n",
        "    human_df[col].fillna(median_val, inplace=True)\n",
        "\n",
        "# Fill categorical NaNs with most frequent\n",
        "for col in human_df.select_dtypes(include=['object']).columns:\n",
        "    mode_val = human_df[col].mode()[0]\n",
        "    human_df[col].fillna(mode_val, inplace=True)\n",
        "\n",
        "# Drop duplicates (if any)\n",
        "human_df.drop_duplicates(inplace=True)\n",
        "\n",
        "print(\"[INFO] Cleaned Human Data:\")\n",
        "print(human_df)\n",
        "\n",
        "# Save to outputs\n",
        "human_df.to_csv(\"outputs/processed_data_human.csv\", index=False)\n"
      ],
      "metadata": {
        "colab": {
          "base_uri": "https://localhost:8080/"
        },
        "id": "mZ0gZhiHiPfU",
        "outputId": "02ecaf22-b4b9-404e-a2fc-44c32c8f561f"
      },
      "execution_count": 9,
      "outputs": [
        {
          "output_type": "stream",
          "name": "stdout",
          "text": [
            "[INFO] Cleaned Human Data:\n",
            "    Age   Salary Department\n",
            "0  25.0  50000.0         HR\n",
            "1  32.5  60000.0    Finance\n",
            "2  35.0  62000.0    Finance\n",
            "3  40.0  80000.0    Finance\n",
            "4  32.5  75000.0         IT\n",
            "5  30.0  62000.0         IT\n"
          ]
        },
        {
          "output_type": "stream",
          "name": "stderr",
          "text": [
            "/tmp/ipython-input-2244172106.py:7: FutureWarning: A value is trying to be set on a copy of a DataFrame or Series through chained assignment using an inplace method.\n",
            "The behavior will change in pandas 3.0. This inplace method will never work because the intermediate object on which we are setting values always behaves as a copy.\n",
            "\n",
            "For example, when doing 'df[col].method(value, inplace=True)', try using 'df.method({col: value}, inplace=True)' or df[col] = df[col].method(value) instead, to perform the operation inplace on the original object.\n",
            "\n",
            "\n",
            "  human_df[col].fillna(median_val, inplace=True)\n",
            "/tmp/ipython-input-2244172106.py:12: FutureWarning: A value is trying to be set on a copy of a DataFrame or Series through chained assignment using an inplace method.\n",
            "The behavior will change in pandas 3.0. This inplace method will never work because the intermediate object on which we are setting values always behaves as a copy.\n",
            "\n",
            "For example, when doing 'df[col].method(value, inplace=True)', try using 'df.method({col: value}, inplace=True)' or df[col] = df[col].method(value) instead, to perform the operation inplace on the original object.\n",
            "\n",
            "\n",
            "  human_df[col].fillna(mode_val, inplace=True)\n"
          ]
        }
      ]
    },
    {
      "cell_type": "code",
      "source": [
        "numeric_features = human_df.select_dtypes(include=['int64','float64']).columns\n",
        "categorical_features = human_df.select_dtypes(include=['object']).columns\n",
        "\n",
        "# Numeric pipeline\n",
        "numeric_transformer = Pipeline(steps=[\n",
        "    ('imputer', SimpleImputer(strategy='median')),\n",
        "    ('scaler', StandardScaler())\n",
        "])\n",
        "\n",
        "# Categorical pipeline\n",
        "categorical_transformer = Pipeline(steps=[\n",
        "    ('imputer', SimpleImputer(strategy='most_frequent')),\n",
        "    ('encoder', OneHotEncoder(handle_unknown='ignore'))\n",
        "])\n",
        "\n",
        "# Combine into preprocessor\n",
        "preprocessor = ColumnTransformer(transformers=[\n",
        "    ('num', numeric_transformer, numeric_features),\n",
        "    ('cat', categorical_transformer, categorical_features)\n",
        "])\n",
        "\n",
        "# Fit & transform\n",
        "processed_data = preprocessor.fit_transform(human_df)\n",
        "\n",
        "# Get feature names\n",
        "feature_names = preprocessor.get_feature_names_out()\n",
        "\n",
        "# Convert to DataFrame\n",
        "machine_df = pd.DataFrame(processed_data.toarray()\n",
        "                          if hasattr(processed_data, 'toarray') else processed_data,\n",
        "                          columns=feature_names)\n",
        "\n",
        "print(\"[INFO] Machine-ready Data:\")\n",
        "print(machine_df.head())\n",
        "\n",
        "# Save\n",
        "machine_df.to_csv(\"outputs/processed_data_machine.csv\", index=False)\n",
        "joblib.dump(preprocessor, \"outputs/preprocessor.joblib\")\n"
      ],
      "metadata": {
        "colab": {
          "base_uri": "https://localhost:8080/"
        },
        "id": "Xwn8mfeDiSxt",
        "outputId": "052d9a3f-3edf-4121-a05e-8d27f0e2e258"
      },
      "execution_count": 10,
      "outputs": [
        {
          "output_type": "stream",
          "name": "stdout",
          "text": [
            "[INFO] Machine-ready Data:\n",
            "   num__Age  num__Salary  cat__Department_Finance  cat__Department_HR  \\\n",
            "0 -1.643168    -1.492272                      0.0                 1.0   \n",
            "1  0.000000    -0.486246                      1.0                 0.0   \n",
            "2  0.547723    -0.285041                      1.0                 0.0   \n",
            "3  1.643168     1.525806                      1.0                 0.0   \n",
            "4  0.000000     1.022793                      0.0                 0.0   \n",
            "\n",
            "   cat__Department_IT  \n",
            "0                 0.0  \n",
            "1                 0.0  \n",
            "2                 0.0  \n",
            "3                 0.0  \n",
            "4                 1.0  \n"
          ]
        },
        {
          "output_type": "execute_result",
          "data": {
            "text/plain": [
              "['outputs/preprocessor.joblib']"
            ]
          },
          "metadata": {},
          "execution_count": 10
        }
      ]
    },
    {
      "cell_type": "code",
      "source": [
        "print(\"✅ Outputs generated in /outputs folder:\")\n",
        "!ls -lh outputs\n"
      ],
      "metadata": {
        "colab": {
          "base_uri": "https://localhost:8080/"
        },
        "id": "tGWZu52iiW2O",
        "outputId": "724f86a9-3a34-4b4a-df28-dba98c865740"
      },
      "execution_count": 11,
      "outputs": [
        {
          "output_type": "stream",
          "name": "stdout",
          "text": [
            "✅ Outputs generated in /outputs folder:\n",
            "total 12K\n",
            "-rw-r--r-- 1 root root 3.9K Aug 24 16:03 preprocessor.joblib\n",
            "-rw-r--r-- 1 root root  133 Aug 24 16:03 processed_data_human.csv\n",
            "-rw-r--r-- 1 root root  359 Aug 24 16:03 processed_data_machine.csv\n"
          ]
        }
      ]
    },
    {
      "cell_type": "code",
      "source": [
        "!zip -r Task1_ETL.zip task1_etl.ipynb sample_data.csv outputs\n"
      ],
      "metadata": {
        "colab": {
          "base_uri": "https://localhost:8080/"
        },
        "id": "WKSAuF4-iZLD",
        "outputId": "78ac5a65-a0a0-4b0c-d462-6411b1651157"
      },
      "execution_count": 12,
      "outputs": [
        {
          "output_type": "stream",
          "name": "stdout",
          "text": [
            "\tzip warning: name not matched: task1_etl.ipynb\n",
            "  adding: sample_data.csv (deflated 33%)\n",
            "  adding: outputs/ (stored 0%)\n",
            "  adding: outputs/processed_data_human.csv (deflated 40%)\n",
            "  adding: outputs/preprocessor.joblib (deflated 62%)\n",
            "  adding: outputs/processed_data_machine.csv (deflated 51%)\n"
          ]
        }
      ]
    }
  ]
}