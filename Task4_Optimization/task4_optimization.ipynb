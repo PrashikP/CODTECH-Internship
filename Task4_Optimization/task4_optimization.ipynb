{
  "nbformat": 4,
  "nbformat_minor": 0,
  "metadata": {
    "colab": {
      "provenance": []
    },
    "kernelspec": {
      "name": "python3",
      "display_name": "Python 3"
    },
    "language_info": {
      "name": "python"
    }
  },
  "cells": [
    {
      "cell_type": "code",
      "execution_count": 1,
      "metadata": {
        "colab": {
          "base_uri": "https://localhost:8080/"
        },
        "id": "E7Qq05x4H7wV",
        "outputId": "82e1d23c-37ca-46c7-bdb1-f3b65bae375d"
      },
      "outputs": [
        {
          "output_type": "stream",
          "name": "stdout",
          "text": [
            "Collecting pulp\n",
            "  Downloading pulp-3.2.2-py3-none-any.whl.metadata (6.9 kB)\n",
            "Downloading pulp-3.2.2-py3-none-any.whl (16.4 MB)\n",
            "\u001b[2K   \u001b[90m━━━━━━━━━━━━━━━━━━━━━━━━━━━━━━━━━━━━━━━━\u001b[0m \u001b[32m16.4/16.4 MB\u001b[0m \u001b[31m106.1 MB/s\u001b[0m eta \u001b[36m0:00:00\u001b[0m\n",
            "\u001b[?25hInstalling collected packages: pulp\n",
            "Successfully installed pulp-3.2.2\n"
          ]
        }
      ],
      "source": [
        "!pip install pulp\n"
      ]
    },
    {
      "cell_type": "code",
      "source": [
        "import pulp as pl\n"
      ],
      "metadata": {
        "id": "q6N5q-w3IDHW"
      },
      "execution_count": 2,
      "outputs": []
    },
    {
      "cell_type": "code",
      "source": [
        "# Define problem\n",
        "model = pl.LpProblem(\"Maximize_Profit\", pl.LpMaximize)\n",
        "\n",
        "# Decision variables\n",
        "chairs = pl.LpVariable(\"Chairs\", lowBound=0, cat='Integer')\n",
        "tables = pl.LpVariable(\"Tables\", lowBound=0, cat='Integer')\n",
        "\n",
        "# Objective function\n",
        "model += 20 * chairs + 30 * tables, \"Profit\"\n",
        "\n",
        "# Constraints\n",
        "model += 3 * chairs + 4 * tables <= 240, \"LaborConstraint\"\n",
        "model += 2 * chairs + 3 * tables <= 180, \"WoodConstraint\"\n",
        "\n",
        "# Solve\n",
        "model.solve()\n"
      ],
      "metadata": {
        "colab": {
          "base_uri": "https://localhost:8080/"
        },
        "id": "48_xcX7hIH9T",
        "outputId": "2492c092-51a0-499c-d31b-3ddb614c02e5"
      },
      "execution_count": 3,
      "outputs": [
        {
          "output_type": "execute_result",
          "data": {
            "text/plain": [
              "1"
            ]
          },
          "metadata": {},
          "execution_count": 3
        }
      ]
    },
    {
      "cell_type": "code",
      "source": [
        "print(\"Status:\", pl.LpStatus[model.status])\n",
        "print(\"Produce Chairs:\", pl.value(chairs))\n",
        "print(\"Produce Tables:\", pl.value(tables))\n",
        "print(\"Maximum Profit:\", pl.value(model.objective))\n"
      ],
      "metadata": {
        "colab": {
          "base_uri": "https://localhost:8080/"
        },
        "id": "1eHc7JCjIMGq",
        "outputId": "01af7482-bcee-47a9-9f8c-66a9ec126939"
      },
      "execution_count": 4,
      "outputs": [
        {
          "output_type": "stream",
          "name": "stdout",
          "text": [
            "Status: Optimal\n",
            "Produce Chairs: 0.0\n",
            "Produce Tables: 60.0\n",
            "Maximum Profit: 1800.0\n"
          ]
        }
      ]
    },
    {
      "cell_type": "markdown",
      "source": [
        "### Insights\n",
        "- The optimal solution gives the number of chairs and tables to produce.\n",
        "- This ensures maximum profit within the labor and wood resource limits.\n",
        "- Linear Programming helps businesses decide how to allocate resources efficiently.\n",
        "- The model can be extended to real-life problems like:\n",
        "  - Transportation (minimizing shipping cost)\n",
        "  - Diet (choosing cheapest food with nutrition constraints)\n",
        "  - Workforce scheduling (optimal employee allocation)\n"
      ],
      "metadata": {
        "id": "0cqFrm26Idr6"
      }
    },
    {
      "cell_type": "code",
      "source": [],
      "metadata": {
        "id": "kQ8w_qMzIhdF"
      },
      "execution_count": null,
      "outputs": []
    }
  ]
}